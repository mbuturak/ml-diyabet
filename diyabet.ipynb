{
  "nbformat": 4,
  "nbformat_minor": 0,
  "metadata": {
    "colab": {
      "provenance": []
    },
    "kernelspec": {
      "name": "python3",
      "display_name": "Python 3"
    },
    "language_info": {
      "name": "python"
    }
  },
  "cells": [
    {
      "cell_type": "code",
      "execution_count": 41,
      "metadata": {
        "id": "EhKiq7OsuCjW"
      },
      "outputs": [],
      "source": [
        "import pandas as pd\n",
        "import numpy as np\n",
        "from sklearn.tree import DecisionTreeClassifier, export_text\n",
        "from sklearn.model_selection import train_test_split"
      ]
    },
    {
      "cell_type": "code",
      "source": [
        "diabets = pd.read_csv('sample_data/diabetes.csv');"
      ],
      "metadata": {
        "id": "Rxumv6Gxungv"
      },
      "execution_count": null,
      "outputs": []
    },
    {
      "cell_type": "code",
      "source": [
        "#diabets.head(10)"
      ],
      "metadata": {
        "id": "nUYiiRD7uset"
      },
      "execution_count": 40,
      "outputs": []
    },
    {
      "cell_type": "code",
      "source": [
        "y=diabets[['Outcome']]\n",
        "x=diabets.drop(columns=['Outcome'],axis=1)"
      ],
      "metadata": {
        "id": "U4zngQ4Vu4ZX"
      },
      "execution_count": null,
      "outputs": []
    },
    {
      "cell_type": "code",
      "source": [
        "x_train,x_test,y_train,y_test=train_test_split(x,y,train_size=0.8,random_state=34)"
      ],
      "metadata": {
        "id": "dLj2NhJ9vMNA"
      },
      "execution_count": null,
      "outputs": []
    },
    {
      "cell_type": "code",
      "source": [
        "feature_names = x.columns.tolist()"
      ],
      "metadata": {
        "id": "Fcjgm0t_xSNU"
      },
      "execution_count": null,
      "outputs": []
    },
    {
      "cell_type": "code",
      "source": [
        "tree = DecisionTreeClassifier()\n",
        "model = tree.fit(x_train, y_train)"
      ],
      "metadata": {
        "id": "XKjXaZN8vlhR"
      },
      "execution_count": null,
      "outputs": []
    },
    {
      "cell_type": "code",
      "source": [
        "# Modelin açıklanabilirliğini artırmak için ağacı metin biçiminde görüntüleyin\n",
        "tree_rules = export_text(model, feature_names=feature_names)\n",
        "#print(\"Decision Tree Rules:\\n\", tree_rules)"
      ],
      "metadata": {
        "id": "vw0c7m6Fxpj8"
      },
      "execution_count": null,
      "outputs": []
    },
    {
      "cell_type": "code",
      "source": [
        "# Model skorunu hesaplayın\n",
        "score = model.score(x_test, y_test)\n",
        "print(\"Model Doğruluk Oranı:\", score)"
      ],
      "metadata": {
        "colab": {
          "base_uri": "https://localhost:8080/"
        },
        "id": "wIz3rySevxGZ",
        "outputId": "cd50c6c8-7201-408a-ad69-bd47f653f52d"
      },
      "execution_count": null,
      "outputs": [
        {
          "output_type": "stream",
          "name": "stdout",
          "text": [
            "Model Doğruluk Oranı: 0.7207792207792207\n"
          ]
        }
      ]
    },
    {
      "cell_type": "code",
      "source": [
        "# Tahmin yapmak için örnek veri girişi.\n",
        "# Kaç adet hamilelik geçirdi?, Glikoz, Kan Basıncı, Deri Kalınlığı, İnsülin direnci, Vücut kitle indeksi, Diyabet Soyağacı Fonksiyonu, Yaş\n",
        "\n",
        "# 6,148,72,35,0,33.6,0.627,50 -> Diyabet hastası örneği\n",
        "# 2,135,85,26,0,25.6,0.124,23 -> Diyabet olmayan hasta örneği\n",
        "\n",
        "#new_data = np.array([[2,135,85,26,0,25.6,0.124,23]])\n",
        "#prediction = model.predict(new_data)\n",
        "\n",
        "user_input = input(\"Verileri virgülle ayırarak girin (örn: 1,2,3,0.4): \")\n",
        "new_data = np.array([list(map(float, user_input.split(',')))])\n",
        "prediction = model.predict(new_data)\n",
        "print(\"Tahmin Sonucu:\", prediction)"
      ],
      "metadata": {
        "colab": {
          "base_uri": "https://localhost:8080/"
        },
        "id": "tNRcvyEvv8cx",
        "outputId": "f528e0e4-f15b-4bf0-9b63-580595b767b4"
      },
      "execution_count": 50,
      "outputs": [
        {
          "output_type": "stream",
          "name": "stdout",
          "text": [
            "Verileri virgülle ayırarak girin (örn: 1,2,3,0.4): 2,135,85,26,0,25.6,0.124,23\n",
            "Tahmin Sonucu: [0]\n"
          ]
        },
        {
          "output_type": "stream",
          "name": "stderr",
          "text": [
            "/usr/local/lib/python3.10/dist-packages/sklearn/base.py:439: UserWarning: X does not have valid feature names, but MyDecisionTreeClassifier was fitted with feature names\n",
            "  warnings.warn(\n"
          ]
        }
      ]
    }
  ]
}